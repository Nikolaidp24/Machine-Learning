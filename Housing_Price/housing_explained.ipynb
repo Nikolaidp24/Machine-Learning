{
 "cells": [
  {
   "cell_type": "markdown",
   "id": "86412f18",
   "metadata": {},
   "source": [
    "# Example Four: Housing Price Preditction"
   ]
  },
  {
   "cell_type": "markdown",
   "id": "330d1ba9",
   "metadata": {},
   "source": [
    "***In the example, I will be demonstrating a regression problem using multiple models, and with visualization tools such as matplotlib/seaborn, data preprocessing with be taken care of by combining both pandas's DataFrame manipulation and sklearn's built-in column transformer***"
   ]
  },
  {
   "cell_type": "code",
   "execution_count": 1,
   "id": "1eb98296",
   "metadata": {},
   "outputs": [],
   "source": [
    "%matplotlib inline\n",
    "import pandas as pd\n",
    "import numpy as np\n",
    "import matplotlib.pyplot as plt\n",
    "import matplotlib.image as mpimg\n",
    "import missingno\n",
    "from sklearn.model_selection import cross_val_score, GridSearchCV, train_test_split\n",
    "from sklearn.linear_model import LinearRegression\n",
    "from sklearn.impute import SimpleImputer\n",
    "from sklearn.preprocessing import OneHotEncoder, FunctionTransformer\n",
    "from sklearn.compose import make_column_transformer\n",
    "from sklearn.pipeline import make_pipeline"
   ]
  },
  {
   "cell_type": "markdown",
   "id": "f6a50822",
   "metadata": {},
   "source": [
    "## Data Visualization and Exploration"
   ]
  },
  {
   "cell_type": "code",
   "execution_count": null,
   "id": "e8e762da",
   "metadata": {},
   "outputs": [],
   "source": []
  }
 ],
 "metadata": {
  "kernelspec": {
   "display_name": "Python 3 (ipykernel)",
   "language": "python",
   "name": "python3"
  },
  "language_info": {
   "codemirror_mode": {
    "name": "ipython",
    "version": 3
   },
   "file_extension": ".py",
   "mimetype": "text/x-python",
   "name": "python",
   "nbconvert_exporter": "python",
   "pygments_lexer": "ipython3",
   "version": "3.11.1"
  }
 },
 "nbformat": 4,
 "nbformat_minor": 5
}
